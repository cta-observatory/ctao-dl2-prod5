{
 "cells": [
  {
   "cell_type": "markdown",
   "metadata": {},
   "source": [
    "# Explore ctapipe DL2 data"
   ]
  },
  {
   "cell_type": "code",
   "execution_count": null,
   "metadata": {},
   "outputs": [],
   "source": [
    "import ctapipe\n",
    "print(f\"ctapipe version {ctapipe.__version__}\")"
   ]
  },
  {
   "cell_type": "code",
   "execution_count": null,
   "metadata": {},
   "outputs": [],
   "source": [
    "import numpy as np\n",
    "import matplotlib.pyplot as plt\n",
    "from tqdm import tqdm\n",
    "\n",
    "from ctapipe.instrument import SubarrayDescription\n",
    "from ctapipe.io import TableLoader"
   ]
  },
  {
   "cell_type": "code",
   "execution_count": null,
   "metadata": {},
   "outputs": [],
   "source": [
    "from tqdm.auto import tqdm"
   ]
  },
  {
   "cell_type": "code",
   "execution_count": null,
   "metadata": {},
   "outputs": [],
   "source": [
    "def read_table(filename, tel_ids=None, stop=None):\n",
    "    \"\"\"\n",
    "    Read data from a file and return it as a pandas DataFrame.\n",
    "\n",
    "    Parameters\n",
    "    ----------\n",
    "    filename : str\n",
    "        The path to the input file.\n",
    "    tel_ids : list or None, optional\n",
    "        A list of telescope IDs to include in the data. If None, all telescopes are included. Default is None.\n",
    "    stop : int or None, optional\n",
    "        The number of events to read from the file. If None, all events are read. Default is None.\n",
    "    Returns\n",
    "    -------\n",
    "    pandas.DataFrame\n",
    "        The data read from the file as a pandas DataFrame.\n",
    "    \"\"\"\n",
    "    loader = TableLoader(\n",
    "        input_url=filename,\n",
    "        load_dl1_parameters=True,\n",
    "        load_dl2=True,\n",
    "        load_instrument=True,\n",
    "        load_simulated=True,\n",
    "        load_true_parameters=True,\n",
    "    )\n",
    "\n",
    "    data = loader.read_telescope_events(telescopes=tel_ids, stop=stop)\n",
    "    data.remove_columns([col for col in data.colnames if len(data[col].shape) > 1])\n",
    "    return data.to_pandas()\n"
   ]
  },
  {
   "cell_type": "code",
   "execution_count": null,
   "metadata": {},
   "outputs": [],
   "source": [
    "dl2_proton_filename = \"../data/proton.dl2.h5\"\n",
    "dl2_gamma_filename = \"../data/gamma-diffuse.dl2.h5\""
   ]
  },
  {
   "cell_type": "code",
   "execution_count": null,
   "metadata": {},
   "outputs": [],
   "source": [
    "subarray = SubarrayDescription.from_hdf(dl2_proton_filename)"
   ]
  },
  {
   "cell_type": "code",
   "execution_count": null,
   "metadata": {},
   "outputs": [],
   "source": [
    "# limited due to github action limited memory. Change to None to get full statistics\n",
    "n_events = 100000\n",
    "\n",
    "protons = read_table(dl2_proton_filename, stop=n_events)\n",
    "gammas = read_table(dl2_gamma_filename, stop=n_events)"
   ]
  },
  {
   "cell_type": "code",
   "execution_count": null,
   "metadata": {},
   "outputs": [],
   "source": [
    "protons.describe()"
   ]
  },
  {
   "cell_type": "code",
   "execution_count": null,
   "metadata": {},
   "outputs": [],
   "source": [
    "gammas.describe()"
   ]
  },
  {
   "cell_type": "code",
   "execution_count": null,
   "metadata": {},
   "outputs": [],
   "source": [
    "columns = protons.columns\n",
    "columns"
   ]
  },
  {
   "cell_type": "code",
   "execution_count": null,
   "metadata": {},
   "outputs": [],
   "source": [
    "numerical_columns = [col for col in columns if hasattr(protons[col], 'dtype') and np.issubdtype(protons[col].dtype, np.number)]\n",
    "\n",
    "ncol = 2\n",
    "nrow = len(numerical_columns) // ncol + 1\n",
    "fig, axes = plt.subplots(ncols=ncol, nrows=nrow, figsize=(20, 5*nrow))\n",
    "\n",
    "nbins = 100\n",
    "opt = dict(bins=nbins, histtype='step', density=True, lw=2)\n",
    "columns_in_logscale = [col for col in numerical_columns if 'intensity' in col]\n",
    "print(columns_in_logscale)\n",
    "\n",
    "\n",
    "for i, col in tqdm(enumerate(numerical_columns), total=len(numerical_columns)):\n",
    "    ax = axes[i//ncol, i%ncol]\n",
    "    mask = np.isfinite(protons[col])\n",
    "    # if col in columns_in_logscale and protons[mask][col].min() > 0 and gammas[col].min() > 0:\n",
    "    #     opt['bins'] = np.logspace(np.log10(protons[mask][col].min()), np.log10(protons[mask][col].max()), nbins)\n",
    "    ax.hist(protons[mask][col], label='protons', **opt)\n",
    "\n",
    "    mask = np.isfinite(gammas[col])\n",
    "    ax.hist(gammas[mask][col], label='gammas', **opt)\n",
    "    \n",
    "    opt['bins'] = nbins\n",
    "    ax.set_title(col)\n",
    "    ax.legend()"
   ]
  },
  {
   "cell_type": "code",
   "execution_count": null,
   "metadata": {},
   "outputs": [],
   "source": [
    "opt_intensity = dict(bins=np.logspace(1.65, 4, 50), histtype='step', density=False, lw=2)\n",
    "plt.figure(figsize=(10, 5))\n",
    "plt.hist(gammas['hillas_intensity'], **opt_intensity, label='gammas');\n",
    "plt.hist(protons['hillas_intensity'], **opt_intensity, label='protons');\n",
    "plt.hist(gammas['HillasReconstructor_average_intensity'], **opt_intensity, label='gammas (average)')\n",
    "plt.hist(protons['HillasReconstructor_average_intensity'], **opt_intensity, label='protons (average)')\n",
    "\n",
    "plt.yscale('log')\n",
    "plt.xscale('log')\n",
    "xticks = [50, 100, 200, 500, 1000, 10000]\n",
    "plt.gca().set_xticks(xticks)\n",
    "plt.gca().set_xticklabels([str(x) for x in xticks])\n",
    "plt.xlabel('Intensity')\n",
    "plt.ylabel('Number of events')\n",
    "plt.grid(which='both')\n",
    "plt.legend()\n"
   ]
  },
  {
   "cell_type": "code",
   "execution_count": null,
   "metadata": {},
   "outputs": [],
   "source": [
    "opt_energy = dict(bins=np.logspace(-3, 3, 50), histtype='step', density=False, lw=2)\n",
    "plt.figure(figsize=(10, 5))\n",
    "plt.hist(gammas['true_energy'], **opt_energy, label='gammas');\n",
    "plt.hist(protons['true_energy'], **opt_energy, label='protons');\n",
    "\n",
    "\n",
    "plt.yscale('log')\n",
    "plt.xscale('log')\n",
    "plt.xlabel(f\"True Energy [TeV]\")\n",
    "plt.ylabel('Number of events')\n",
    "plt.grid(which='both')\n",
    "plt.legend()\n"
   ]
  },
  {
   "cell_type": "code",
   "execution_count": null,
   "metadata": {},
   "outputs": [],
   "source": []
  }
 ],
 "metadata": {
  "kernelspec": {
   "display_name": "ctaodl2",
   "language": "python",
   "name": "python3"
  },
  "language_info": {
   "codemirror_mode": {
    "name": "ipython",
    "version": 3
   },
   "file_extension": ".py",
   "mimetype": "text/x-python",
   "name": "python",
   "nbconvert_exporter": "python",
   "pygments_lexer": "ipython3",
   "version": "3.9.21"
  }
 },
 "nbformat": 4,
 "nbformat_minor": 2
}
