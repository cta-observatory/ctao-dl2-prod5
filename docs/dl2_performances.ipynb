{
 "cells": [
  {
   "cell_type": "markdown",
   "metadata": {},
   "source": [
    "# DL2 performances"
   ]
  },
  {
   "cell_type": "markdown",
   "metadata": {},
   "source": [
    "This is an example of how to compute reconstruction performances on this DL2 dataset.    \n",
    "We explicitly note that the products provided are preliminary and do not reflect the final performance of the CTA Observatory.    \n",
    "\n",
    "Note that this dataset does not include energy reconstruction nor gamma/hadron separation. Therefore, only the angular resolution and effective area can be computed."
   ]
  },
  {
   "cell_type": "code",
   "execution_count": null,
   "metadata": {},
   "outputs": [],
   "source": [
    "import ctapipe\n",
    "print(ctapipe.__version__)\n",
    "\n",
    "import matplotlib.pyplot as plt\n",
    "import numpy as np"
   ]
  },
  {
   "cell_type": "code",
   "execution_count": null,
   "metadata": {},
   "outputs": [],
   "source": [
    "filename = '../data/gamma-diffuse.dl2.h5'"
   ]
  },
  {
   "cell_type": "code",
   "execution_count": null,
   "metadata": {},
   "outputs": [],
   "source": [
    "from ctapipe.io import TableLoader\n",
    "\n",
    "def read_table(filename, tel_ids=None, stop=None):\n",
    "    \"\"\"\n",
    "    Read data from a file and return it as a pandas DataFrame.\n",
    "\n",
    "    Parameters\n",
    "    ----------\n",
    "    filename : str\n",
    "        The path to the input file.\n",
    "    tel_ids : list or None, optional\n",
    "        A list of telescope IDs to include in the data. If None, all telescopes are included. Default is None.\n",
    "    stop : int or None, optional\n",
    "        The number of events to read from the file. If None, all events are read. Default is None.\n",
    "    Returns\n",
    "    -------\n",
    "    pandas.DataFrame\n",
    "        The data read from the file as a pandas DataFrame.\n",
    "    \"\"\"\n",
    "    loader = TableLoader(\n",
    "        input_url=filename,\n",
    "        load_dl1_parameters=True,\n",
    "        load_dl2=True,\n",
    "        load_instrument=True,\n",
    "        load_simulated=True,\n",
    "        load_true_parameters=True,\n",
    "    )\n",
    "\n",
    "    data = loader.read_telescope_events(telescopes=tel_ids, stop=stop)\n",
    "    data.remove_columns([col for col in data.colnames if len(data[col].shape) > 1])\n",
    "    return data\n"
   ]
  },
  {
   "cell_type": "code",
   "execution_count": null,
   "metadata": {},
   "outputs": [],
   "source": [
    "# limited stats because of github actions limitations => THE PERFORMANCES ARE NOT REPRESENTATIVE\n",
    "dl2_params = read_table(filename, stop=100000)"
   ]
  },
  {
   "cell_type": "code",
   "execution_count": null,
   "metadata": {},
   "outputs": [],
   "source": [
    "import astropy.units as u\n",
    "from astropy.coordinates import angular_separation\n",
    "from pyirf.benchmarks import angular_resolution\n",
    "from pyirf.binning import create_bins_per_decade\n",
    "\n",
    "dl2_params['theta'] = angular_separation(dl2_params['true_alt'], dl2_params['true_az'], dl2_params['HillasReconstructor_alt'], dl2_params['HillasReconstructor_az'])\n",
    "\n",
    "ang_res = angular_resolution(dl2_params, \n",
    "    energy_bins=np.array([dl2_params['true_energy'].min(), dl2_params['true_energy'].max()])*dl2_params['true_energy'].unit)['angular_resolution_68'][0]\n",
    "\n",
    "plt.hist(dl2_params['theta'].to(u.deg)**2, bins=100, range=(0*u.deg**2, 1*u.deg**2))\n",
    "plt.axvline(ang_res.to_value(u.deg)**2, color='r', label='angular resolution (68%) = {:.2f} deg'.format(ang_res.to_value(u.deg)))\n",
    "plt.xlabel(r'$\\theta^2$ (deg$^2$)')\n",
    "plt.ylabel('Number of events')\n",
    "plt.legend()"
   ]
  },
  {
   "cell_type": "code",
   "execution_count": null,
   "metadata": {},
   "outputs": [],
   "source": [
    "energy_bins = create_bins_per_decade(1e-2*u.TeV, 1e2*u.TeV, 10)\n",
    "ang_res = angular_resolution(dl2_params, energy_bins=energy_bins)\n",
    "\n",
    "\n",
    "plt.figure(figsize=(10, 6))\n",
    "plt.step(ang_res['true_energy_center'], ang_res['angular_resolution_68'], where='mid')\n",
    "plt.xscale('log')\n",
    "plt.yscale('log')\n",
    "plt.xlabel('True Energy (TeV)')\n",
    "plt.ylabel('Angular Resolution (deg)')\n",
    "plt.title('Angular Resolution vs True Energy')\n",
    "plt.grid(True, which=\"both\", ls=\"--\")\n",
    "plt.show()"
   ]
  },
  {
   "cell_type": "code",
   "execution_count": null,
   "metadata": {},
   "outputs": [],
   "source": [
    "from pyirf.simulations import SimulatedEventsInfo\n",
    "\n",
    "loader = TableLoader(filename)\n",
    "simulation_table = loader.read_simulation_configuration()\n",
    "simulation_table[:10]\n",
    "\n",
    "\n",
    "simulation_info = SimulatedEventsInfo(\n",
    "    energy_min=simulation_table['energy_range_min'][0] * simulation_table['energy_range_min'].unit,\n",
    "    energy_max=simulation_table['energy_range_max'][0] * simulation_table['energy_range_max'].unit,\n",
    "    spectral_index=simulation_table['spectral_index'][0],\n",
    "    max_impact=simulation_table['max_scatter_range'][0] * simulation_table['max_scatter_range'].unit,\n",
    "    n_showers=np.sum(simulation_table['n_showers'])*simulation_table['shower_reuse'][0],\n",
    "    viewcone_min=simulation_table['min_viewcone_radius'][0] * simulation_table['min_viewcone_radius'].unit,\n",
    "    viewcone_max=simulation_table['max_viewcone_radius'][0] * simulation_table['max_viewcone_radius'].unit,\n",
    ")\n",
    "\n",
    "simulation_info\n"
   ]
  },
  {
   "cell_type": "code",
   "execution_count": null,
   "metadata": {},
   "outputs": [],
   "source": [
    "from pyirf.irf import effective_area_per_energy\n",
    "\n",
    "\n",
    "# Compute the effective area\n",
    "effective_area = effective_area_per_energy(\n",
    "    dl2_params,\n",
    "    simulation_info,\n",
    "    energy_bins\n",
    ")\n",
    "\n",
    "# Plot the effective area\n",
    "plt.figure(figsize=(10, 6))\n",
    "plt.step(energy_bins[:-1], effective_area, where='mid')\n",
    "plt.xscale('log')\n",
    "plt.yscale('log')\n",
    "plt.xlabel('Energy (TeV)')\n",
    "plt.ylabel('Effective Area (m²)')\n",
    "plt.title('Effective Area vs Energy')\n",
    "plt.grid(True, which=\"both\", ls=\"--\")\n",
    "plt.show()"
   ]
  },
  {
   "cell_type": "code",
   "execution_count": null,
   "metadata": {},
   "outputs": [],
   "source": []
  }
 ],
 "metadata": {
  "kernelspec": {
   "display_name": "ctaodl2",
   "language": "python",
   "name": "python3"
  },
  "language_info": {
   "codemirror_mode": {
    "name": "ipython",
    "version": 3
   },
   "file_extension": ".py",
   "mimetype": "text/x-python",
   "name": "python",
   "nbconvert_exporter": "python",
   "pygments_lexer": "ipython3",
   "version": "3.9.21"
  }
 },
 "nbformat": 4,
 "nbformat_minor": 2
}
