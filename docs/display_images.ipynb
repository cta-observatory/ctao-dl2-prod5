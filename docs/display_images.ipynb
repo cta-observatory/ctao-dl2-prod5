{
 "cells": [
  {
   "cell_type": "markdown",
   "metadata": {},
   "source": [
    "# Display images from telescopes"
   ]
  },
  {
   "cell_type": "code",
   "execution_count": null,
   "metadata": {},
   "outputs": [],
   "source": [
    "import ctapipe\n",
    "print(ctapipe.__version__)"
   ]
  },
  {
   "cell_type": "code",
   "execution_count": null,
   "metadata": {},
   "outputs": [],
   "source": [
    "import numpy as np\n",
    "import matplotlib.pyplot as plt\n",
    "from ctapipe.instrument import SubarrayDescription\n",
    "from ctapipe.visualization import CameraDisplay\n",
    "from ctapipe.io import TableLoader\n",
    "from pathlib import Path"
   ]
  },
  {
   "cell_type": "code",
   "execution_count": null,
   "metadata": {},
   "outputs": [],
   "source": [
    "dl2_proton_filename = \"../data/proton_with_images_00.dl2.h5\"\n",
    "dl2_gamma_filename = \"../data/gamma-diffuse_with_images_00.dl2.h5\""
   ]
  },
  {
   "cell_type": "code",
   "execution_count": null,
   "metadata": {},
   "outputs": [],
   "source": [
    "subarray = SubarrayDescription.from_hdf(dl2_proton_filename)"
   ]
  },
  {
   "cell_type": "code",
   "execution_count": null,
   "metadata": {},
   "outputs": [],
   "source": [
    "def read_table(filename, tel_ids=None, stop=None):\n",
    "    \"\"\"\n",
    "    Read data from a file and return it as a pandas DataFrame.\n",
    "\n",
    "    Parameters\n",
    "    ----------\n",
    "    filename : str\n",
    "        The path to the input file.\n",
    "    tel_ids : list or None, optional\n",
    "        A list of telescope IDs to include in the data. If None, all telescopes are included. Default is None.\n",
    "    stop : int or None, optional\n",
    "        The number of events to read from the file. If None, all events are read. Default is None.\n",
    "    Returns\n",
    "    -------\n",
    "    pandas.DataFrame\n",
    "        The data read from the file as a pandas DataFrame.\n",
    "    \"\"\"\n",
    "    loader = TableLoader(\n",
    "        input_url=filename,\n",
    "        load_dl1_parameters=True,\n",
    "        load_dl2=False,\n",
    "        load_instrument=False,\n",
    "        load_simulated=False,\n",
    "        load_true_parameters=False,\n",
    "        load_dl1_images=True,\n",
    "    )\n",
    "\n",
    "    data = loader.read_telescope_events(telescopes=tel_ids, stop=stop)\n",
    "    return data\n",
    "    "
   ]
  },
  {
   "cell_type": "code",
   "execution_count": null,
   "metadata": {},
   "outputs": [],
   "source": [
    "def frame_strip(display):\n",
    "    \"\"\"\n",
    "    Remove all frame elements from a CameraDisplay object.\n",
    "\n",
    "    Parameters\n",
    "    ----------\n",
    "    display : ctapipe.visualization.CameraDisplay\n",
    "        The CameraDisplay object to modify.\n",
    "    \"\"\"\n",
    "    display.axes.set_frame_on(False)  # Remove the frame\n",
    "    display.axes.set_title('')  # Remove the title\n",
    "    display.axes.set_xticks([])  # Remove x-axis ticks\n",
    "    display.axes.set_yticks([])  # Remove y-axis ticks\n",
    "    display.axes.set_xlabel('')  # Remove x-axis label\n",
    "    display.axes.set_ylabel('')  # Remove y-axis label\n",
    "    display.add_frame_name((1, 1, 1, 0))  # Remove \"CameraFrame\" by setting alpha to 0\n",
    "    display.cmap.set_bad(alpha=0)  # Make the background transparent\n",
    "    for text in display.axes.texts:\n",
    "        if \"Frame\" in text.get_text():  # Match the label text\n",
    "            text.set_visible(False)  # Hide it"
   ]
  },
  {
   "cell_type": "code",
   "execution_count": null,
   "metadata": {},
   "outputs": [],
   "source": [
    "protons = read_table(dl2_proton_filename, stop=1000)\n",
    "gammas = read_table(dl2_gamma_filename, stop=1000)\n"
   ]
  },
  {
   "cell_type": "code",
   "execution_count": null,
   "metadata": {},
   "outputs": [],
   "source": [
    "# select events above a certain intensity threshold\n",
    "min_intensity = 100\n",
    "protons = protons[protons['hillas_intensity'] > min_intensity]\n",
    "gammas = gammas[gammas['hillas_intensity'] > min_intensity]\n",
    "\n",
    "print(f\"Number of protons: {len(protons)}\")\n",
    "print(f\"Number of gammas: {len(gammas)}\")"
   ]
  },
  {
   "cell_type": "markdown",
   "metadata": {},
   "source": [
    "# Random Events"
   ]
  },
  {
   "cell_type": "markdown",
   "metadata": {},
   "source": []
  },
  {
   "cell_type": "code",
   "execution_count": null,
   "metadata": {},
   "outputs": [],
   "source": [
    "def plot_images_board(events):\n",
    "    fig, axes = plt.subplots(6, 10, figsize=(16, 9))\n",
    "\n",
    "    for i in range(60):\n",
    "        ax = axes.flatten()[i]\n",
    "        image = events[i]['image']\n",
    "        tel_id = events[i]['tel_id']\n",
    "        camera = subarray.tel[tel_id].camera\n",
    "        geometry = camera.geometry\n",
    "        display = CameraDisplay(geometry, ax=ax)\n",
    "        display.image = image\n",
    "        frame_strip(display)\n",
    "\n",
    "    plt.subplots_adjust(wspace=0, hspace=0)  # Remove space between subplots\n",
    "    plt.tight_layout()"
   ]
  },
  {
   "cell_type": "code",
   "execution_count": null,
   "metadata": {},
   "outputs": [],
   "source": [
    "plot_images_board(gammas)\n",
    "plt.title('Gamma events')\n",
    "plt.show()"
   ]
  },
  {
   "cell_type": "code",
   "execution_count": null,
   "metadata": {},
   "outputs": [],
   "source": [
    "plot_images_board(protons)\n",
    "plt.title('Proton events')\n",
    "plt.show()\n"
   ]
  },
  {
   "cell_type": "code",
   "execution_count": null,
   "metadata": {},
   "outputs": [],
   "source": []
  }
 ],
 "metadata": {
  "kernelspec": {
   "display_name": "ctaodl2",
   "language": "python",
   "name": "python3"
  },
  "language_info": {
   "codemirror_mode": {
    "name": "ipython",
    "version": 3
   },
   "file_extension": ".py",
   "mimetype": "text/x-python",
   "name": "python",
   "nbconvert_exporter": "python",
   "pygments_lexer": "ipython3",
   "version": "3.9.21"
  }
 },
 "nbformat": 4,
 "nbformat_minor": 2
}
